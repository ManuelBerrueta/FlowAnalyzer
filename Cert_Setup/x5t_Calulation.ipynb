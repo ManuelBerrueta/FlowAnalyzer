{
 "cells": [
  {
   "cell_type": "markdown",
   "metadata": {},
   "source": [
    "---     \n",
    "# Creating the `client_assertion` JWT\n"
   ]
  },
  {
   "cell_type": "markdown",
   "metadata": {},
   "source": [
    "## **`x5t`**\n",
    "You need to calculate the **`x5t`** value that will go into the header of the JWT. The completed JWT will be included in the `client_assertion` parameter as it's value. \n",
    "> This will be used instead of a `client_secret`.\n",
    "- Reference: [K000132212: APM: About oAuth x5t (cert-thumbprint-sha1) parameter calculation](https://my.f5.com/manage/s/article/K000132212)\n",
    "\n",
    "### Calculating **`x5t`**\n",
    "The value is calculated using the certficate's thumbprint. You can use the command below in your Shell to calculate the **`x5t`**:\n",
    "```Shell\n",
    "openssl x509 -noout -in </home/user/pathCert/cert.crt> -fingerprint -sha1 | cut -f2 -d'=' | sed 's/://g' | xxd -r -ps | base64 | sed 's/=//g\n",
    "```\n",
    "\n",
    "However, I have provided code below so you can do it all within the notebook."
   ]
  },
  {
   "cell_type": "code",
   "execution_count": null,
   "metadata": {},
   "outputs": [],
   "source": [
    "import pyperclip\n",
    "import subprocess"
   ]
  },
  {
   "cell_type": "markdown",
   "metadata": {},
   "source": [
    "Enter the path for the certificate to calculate the `x5t`:"
   ]
  },
  {
   "cell_type": "code",
   "execution_count": null,
   "metadata": {},
   "outputs": [],
   "source": [
    "cert_path = ''\n",
    "#cert_path = input('Enter the path to the certificate: ')"
   ]
  },
  {
   "cell_type": "markdown",
   "metadata": {},
   "source": [
    "This will run the command and capture the calculated **`x5t`**, ready to use in the JWT header."
   ]
  },
  {
   "cell_type": "code",
   "execution_count": null,
   "metadata": {},
   "outputs": [],
   "source": [
    "command = f\"openssl x509 -noout -in {cert_path} -fingerprint -sha1 | cut -f2 -d'=' | sed 's/://g' | xxd -r -ps | base64 | sed 's/=//g'\"\n",
    "result = subprocess.run(command, shell=True, capture_output=True, text=True)\n",
    "\n",
    "x5t = ''\n",
    "if result.returncode == 0:\n",
    "    output = result.stdout.strip()\n",
    "    print(output)\n",
    "    x5t = output\n",
    "else:\n",
    "    error = result.stderr.strip()\n",
    "    print(f\"Command execution failed with error: {error}\")"
   ]
  },
  {
   "cell_type": "markdown",
   "metadata": {},
   "source": [
    "Provide the tenant id for the application:"
   ]
  },
  {
   "cell_type": "code",
   "execution_count": null,
   "metadata": {},
   "outputs": [],
   "source": [
    "tenant_id = ''\n",
    "#tenant_id = input('Enter the tenant id: ')"
   ]
  },
  {
   "cell_type": "markdown",
   "metadata": {},
   "source": [
    "The following URL will be used for the audience (`aud`) claim in the token."
   ]
  },
  {
   "cell_type": "code",
   "execution_count": null,
   "metadata": {},
   "outputs": [],
   "source": [
    "token_endpoint = f'https://login.microsoftonline.com/{tenant_id}/oauth2/v2.0/token'\n",
    "pyperclip.copy(token_endpoint)\n",
    "print(token_endpoint)\n",
    "aud = token_endpoint"
   ]
  },
  {
   "cell_type": "markdown",
   "metadata": {},
   "source": [
    "Now we need the App ID/`client_id`, which will be used for both the issuer (`iss`) and subject (`sub`) claims in the token."
   ]
  },
  {
   "cell_type": "code",
   "execution_count": null,
   "metadata": {},
   "outputs": [],
   "source": [
    "#client_id = input('Enter the client id: ')\n",
    "client_id = ''\n",
    "pyperclip.copy(client_id)\n",
    "iss = client_id\n",
    "sub = client_id"
   ]
  },
  {
   "cell_type": "markdown",
   "metadata": {},
   "source": [
    "Enter the path for th certificate's private key, the key will be used to sign this JWT."
   ]
  },
  {
   "cell_type": "code",
   "execution_count": null,
   "metadata": {},
   "outputs": [],
   "source": [
    "#private_key_path = input('Enter the path to the private key: ')\n",
    "private_key_path = ''"
   ]
  },
  {
   "cell_type": "markdown",
   "metadata": {},
   "source": [
    "Now we will create the  **`client_assertion`** JWT:"
   ]
  },
  {
   "cell_type": "code",
   "execution_count": null,
   "metadata": {},
   "outputs": [],
   "source": [
    "import sys\n",
    "sys.path.append('../BST/JWT_Utils')\n",
    "from jwt_sign import sign_jwt\n",
    "\n",
    "\n",
    "token = sign_jwt(private_key_path, x5t, aud, iss, sub) \n",
    "#token = sign_jwt('/path/to/private/key', x5t='your_x5t', aud='your_aud', iss='your_iss', sub='your_sub') #Alternative way to call the function\n",
    "pyperclip.copy(token)\n",
    "print(f'JWT Token: {token}')"
   ]
  },
  {
   "cell_type": "markdown",
   "metadata": {},
   "source": [
    "> Next step is to take this JWT and use it as the value of the **`client_assertion`** query string parameter in the flow."
   ]
  }
 ],
 "metadata": {
  "kernelspec": {
   "display_name": "Python 3",
   "language": "python",
   "name": "python3"
  },
  "language_info": {
   "codemirror_mode": {
    "name": "ipython",
    "version": 3
   },
   "file_extension": ".py",
   "mimetype": "text/x-python",
   "name": "python",
   "nbconvert_exporter": "python",
   "pygments_lexer": "ipython3",
   "version": "3.10.12"
  }
 },
 "nbformat": 4,
 "nbformat_minor": 2
}
