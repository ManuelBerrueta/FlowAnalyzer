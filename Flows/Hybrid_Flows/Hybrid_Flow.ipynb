{
 "cells": [
  {
   "cell_type": "markdown",
   "metadata": {},
   "source": [
    "# Hybrid Flow PoC\n",
    "It is called hybrid flow because it mixes OAuth2 Authorization Code Flow with OpenID Connect (OIDC).  \n",
    "This flow allows a page to render without blocking on authorization code redemption to complete.\n",
    "\n",
    "### Hybrid flow piggy backs on the Auth Code Flow, with required additions/updates in 3 parameters and additional restrictions on the `response_mode` parameter:   \n",
    "New `scopes`:\n",
    "- Must include ID Token scopes: `openid` is required, while `profile` and `email` are optional.\n",
    "\n",
    "New `response_type`: The **`response_type`** must be a combination of at least 2 or all 3 of: **code**, **id_token** and **token**\n",
    "- **`id_token`** specifically refers to Authentication using **OpenID Connect (OIDC)**\n",
    "- Possible combinations of `response_type` as defined per [OpenID Connect spec](https://openid.net/specs/oauth-v2-multiple-response-types-1_0.html#Combinations)\n",
    "    - `code` `token`\n",
    "    - `code` `id_token`\n",
    "    - `id_token` `token`\n",
    "    - `code` `id_token` `token`\n",
    "> [!NOTE] I would like to highlight a nuance here: when the `id_token` + `code` are requested together, it is what is define as the actual **Hybrid Flow**. Although, as mentioned you can use any combination listed.\n",
    "\n",
    "New `nonce`: A randomly generated value that the app can verify to mitigate token replay attacks.   \n",
    "\n",
    "`response_mode`:\n",
    "- The default when using Hybrid Flow will be `fragment`\n",
    "- `form_post` is recommended by MSFT for apps, especially when using http://localhost as a redirect URI.    \n",
    "- Must not be `query` and it is not allowed per the spec     \n",
    "     \n",
    "---     \n",
    "> #### Hybrid Flow requires user interaction. The user must sign-in interactively and satisfy the MFA policy.\n",
    "To visualize it looks like so:\n",
    "\n",
    "```sql\n",
    "Client ----> [Authorization Endpoint]\n",
    "                       \\\n",
    "                        User Authenticates\n",
    "                       /\n",
    "Client <---- [Authorization Code + Tokens]\n",
    "           |\n",
    "           | (POST with code)\n",
    "           v\n",
    "[Token Endpoint] ----> [Additional Tokens]\n",
    "\n",
    "```\n",
    "\n",
    "---     "
   ]
  },
  {
   "cell_type": "code",
   "execution_count": null,
   "metadata": {},
   "outputs": [],
   "source": [
    "import sys\n",
    "sys.path.append('../')\n",
    "import OAuth2_Flows\n",
    "import pyperclip"
   ]
  },
  {
   "cell_type": "markdown",
   "metadata": {},
   "source": [
    "## Required Variables Setup\n",
    "Below we are setting up our variables.\n",
    "- Note that the `redirect_uri` needs to match that on the App Registration\n",
    "\n",
    "> Note that in the scope you could also request something like: `scope = 'openid email profile offline_access https://graph.microsoft.com/.default'`, and that would also return an id token along with a refresh token. This by the specification is no longer considered Auth Code flow, and it is using the Hybrid Flow leveraging the OpenID Connect (OIDC) spec, which allows for this type of behavior."
   ]
  },
  {
   "cell_type": "code",
   "execution_count": null,
   "metadata": {},
   "outputs": [],
   "source": [
    "# Configuration\n",
    "tenant_id = ''\n",
    "client_id = ''\n",
    "redirect_uri = ''\n",
    "\n",
    "scope = 'openid email profile offline_access https://graph.microsoft.com/.default'\n",
    "response_type = 'code id_token' #'code id_token token'\n",
    "response_mode = 'fragment' #'form_post'\n",
    "state = \"A1B2C3D4E5F6\"\n",
    "nonce = '12345'"
   ]
  },
  {
   "cell_type": "code",
   "execution_count": null,
   "metadata": {},
   "outputs": [],
   "source": [
    "complete_auth_url = OAuth2_Flows.hybrid_flow(tenant_id, client_id, redirect_uri, response_type , response_mode, scope, state, nonce)\n",
    "pyperclip.copy(complete_auth_url) # Copy to clipboard\n",
    "print(f'Complete URL w/ params - Paste In Browser: \\n{complete_auth_url}')"
   ]
  },
  {
   "cell_type": "markdown",
   "metadata": {},
   "source": [
    "In the response, you should have received the Authorization Code and the ID Token as `code` and `id_token` query string parameters, respectively, within the fragment of the URL. \n",
    "Copy the `code` and run below to request an `access_token`.\n",
    "> [!TIP] 🔥 You can use the [**urlyzer**](https://github.com/ManuelBerrueta/urlyzer) tool to parse the url  for analysis and also to make it easier for you to copy the code 🙂    \n",
    "> [!NOTE] 📝 You will also need the `client_secret` for this next step."
   ]
  },
  {
   "cell_type": "code",
   "execution_count": null,
   "metadata": {},
   "outputs": [],
   "source": [
    "auth_code = input('Enter the code from the URL: ')"
   ]
  },
  {
   "cell_type": "code",
   "execution_count": null,
   "metadata": {},
   "outputs": [],
   "source": [
    "client_secret = input('Enter the client secret: ')"
   ]
  },
  {
   "cell_type": "markdown",
   "metadata": {},
   "source": [
    "Now we can use the `auth_code` and `client_secret` to get the access token and refresh token."
   ]
  },
  {
   "cell_type": "code",
   "execution_count": null,
   "metadata": {},
   "outputs": [],
   "source": [
    "\n",
    "access_token, refresh_token, id_token = OAuth2_Flows.request_access_token(tenant_id, client_id, redirect_uri, auth_code, client_secret)\n",
    "print(f'Access Token: {access_token}')\n",
    "print(f'Refresh Token: {refresh_token}')\n",
    "print(f'ID Token: {id_token}')"
   ]
  },
  {
   "cell_type": "markdown",
   "metadata": {},
   "source": [
    "---     "
   ]
  },
  {
   "cell_type": "markdown",
   "metadata": {},
   "source": [
    "# Refresh Token Request\n",
    "If the token expires, we can also request a new one using the **`refresh_token`** to make a request to the `/token` endpoint.\n",
    "> [!NOTE] 📝 The `grant_type` in this case will be `refresh_token`"
   ]
  },
  {
   "cell_type": "code",
   "execution_count": null,
   "metadata": {},
   "outputs": [],
   "source": [
    "refresh_token = input('Enter the refresh token: ')"
   ]
  },
  {
   "cell_type": "code",
   "execution_count": null,
   "metadata": {},
   "outputs": [],
   "source": [
    "client_secret = input('Enter the client secret: ')"
   ]
  },
  {
   "cell_type": "code",
   "execution_count": null,
   "metadata": {},
   "outputs": [],
   "source": [
    "access_token, refresh_token, id_token = OAuth2_Flows.refresh_token(tenant_id, client_id, refresh_token, client_secret)\n",
    "print(f'Access Token: {access_token}')\n",
    "print(f'Refresh Token: {refresh_token}')\n",
    "print(f'ID Token: {id_token}')"
   ]
  },
  {
   "cell_type": "markdown",
   "metadata": {},
   "source": [
    "## Getting Refresh Token with a different scope\n",
    "An additional, interesting fact is that you COULD request additional scopes with the refresh token.\n",
    "> [!NOTE] 📝 The user must have consented to the additional scope to the application at some point or the application must have admin consent.\n",
    "\n",
    "You can give it a try:"
   ]
  },
  {
   "cell_type": "code",
   "execution_count": null,
   "metadata": {},
   "outputs": [],
   "source": [
    "scope = 'https://vault.azure.net/user_impersonation'"
   ]
  },
  {
   "cell_type": "code",
   "execution_count": null,
   "metadata": {},
   "outputs": [],
   "source": [
    "refresh_token = input('Enter the refresh token: ')"
   ]
  },
  {
   "cell_type": "code",
   "execution_count": null,
   "metadata": {},
   "outputs": [],
   "source": [
    "client_secret = input('Enter the client secret: ')"
   ]
  },
  {
   "cell_type": "code",
   "execution_count": null,
   "metadata": {},
   "outputs": [],
   "source": [
    "tokens = OAuth2_Flows.refresh_token(tenant_id, client_id, refresh_token, client_secret, scope)\n",
    "access_token = tokens[0]\n",
    "refresh_token = tokens[1]\n",
    "id_token = tokens[2]\n",
    "print(f'Access Token: {access_token}')\n",
    "print(f'Refresh Token: {refresh_token}')\n",
    "print(f'ID Token: {id_token}')"
   ]
  }
 ],
 "metadata": {
  "kernelspec": {
   "display_name": "Python 3",
   "language": "python",
   "name": "python3"
  },
  "language_info": {
   "codemirror_mode": {
    "name": "ipython",
    "version": 3
   },
   "file_extension": ".py",
   "mimetype": "text/x-python",
   "name": "python",
   "nbconvert_exporter": "python",
   "pygments_lexer": "ipython3",
   "version": "3.10.12"
  }
 },
 "nbformat": 4,
 "nbformat_minor": 2
}
