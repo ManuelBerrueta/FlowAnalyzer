{
 "cells": [
  {
   "cell_type": "markdown",
   "metadata": {},
   "source": [
    "# Client Credentials Flow\n",
    "Unlike other flows, there are some differences to note about Client Credentials Flow:\n",
    "- It does not go through the authorization (`authorize`) endpoint\n",
    "    - Instead it directly request a token from the `token` endpoint using the application's `client_secret`\n",
    "- It does not require user interaction/input\n",
    "- It is most often used in Server-To-Server or Service-To-Service (STS) scenarios\n",
    "    - Background services and daemons that usually do not interact with users.\n",
    "- The application is no longer impersonating a user, instead is using it's own identity\n",
    "- Refresh tokens are never granted with this flow, since the resource can alway get another one using it's credentials\n",
    "\n",
    "> [!WARNING] ⚠ Since this flow uses the client credentials, you must make sure not to expose them within your code, else a possibly not so friendly user might use them as well to login as that identity!"
   ]
  },
  {
   "cell_type": "code",
   "execution_count": null,
   "metadata": {},
   "outputs": [],
   "source": [
    "import sys\n",
    "sys.path.append('../')\n",
    "import OAuth2_Flows\n",
    "import pyperclip"
   ]
  },
  {
   "cell_type": "markdown",
   "metadata": {},
   "source": [
    "Like other flows we need to provide the tenant id, client id, and scope:"
   ]
  },
  {
   "cell_type": "code",
   "execution_count": null,
   "metadata": {},
   "outputs": [],
   "source": [
    "tenant_id = 'YOUR_TENANT_ID'\n",
    "client_id = 'YOUR_CLIENT_ID'\n",
    "scope = 'https://graph.microsoft.com/.default'"
   ]
  },
  {
   "cell_type": "markdown",
   "metadata": {},
   "source": [
    "We also need to provide the client_secret, since we are signing in as the client/application it self and not a user:"
   ]
  },
  {
   "cell_type": "code",
   "execution_count": null,
   "metadata": {},
   "outputs": [],
   "source": [
    "#client_secret = 'YOUR_SECRET'\n",
    "client_secret = input('Enter your client secret: ')"
   ]
  },
  {
   "cell_type": "markdown",
   "metadata": {},
   "source": [
    "Now we send our request with our parameters to the `/token` endpoint."
   ]
  },
  {
   "cell_type": "code",
   "execution_count": null,
   "metadata": {},
   "outputs": [],
   "source": [
    "access_token = OAuth2_Flows.client_credentials_flow(client_id, tenant_id, scope, client_secret)\n",
    "pyperclip.copy(access_token)\n",
    "print(f'Access Token:\\n{access_token}')"
   ]
  },
  {
   "cell_type": "markdown",
   "metadata": {},
   "source": [
    "---    "
   ]
  },
  {
   "cell_type": "markdown",
   "metadata": {},
   "source": [
    "# Requesting admin consent\n",
    "// Line breaks are for legibility only.\n",
    "```HTTP\n",
    "GET https://login.microsoftonline.com/{tenant}/adminconsent?\n",
    "client_id=00001111-aaaa-2222-bbbb-3333cccc4444\n",
    "&state=12345\n",
    "&redirect_uri=http://localhost/myapp/permissions\n",
    "```"
   ]
  }
 ],
 "metadata": {
  "kernelspec": {
   "display_name": "Python 3",
   "language": "python",
   "name": "python3"
  },
  "language_info": {
   "codemirror_mode": {
    "name": "ipython",
    "version": 3
   },
   "file_extension": ".py",
   "mimetype": "text/x-python",
   "name": "python",
   "nbconvert_exporter": "python",
   "pygments_lexer": "ipython3",
   "version": "3.10.12"
  }
 },
 "nbformat": 4,
 "nbformat_minor": 2
}
