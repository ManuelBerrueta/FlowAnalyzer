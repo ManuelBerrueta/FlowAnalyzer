{
 "cells": [
  {
   "cell_type": "markdown",
   "metadata": {},
   "source": [
    "# On-Behalf-Of Flow (OBO)\n",
    "Used for scenarios where one API needs to call another API on behalf of the user, most often called a Service-to-Service (STS) scenario.\n",
    "\n",
    "- Token Exchange: Involves exchanging an access token for another access token to call downstream APIs on behalf of the user.\n",
    "- Security: Ensures secure token handling and appropriate scoping for each service.\n"
   ]
  },
  {
   "cell_type": "markdown",
   "metadata": {},
   "source": [
    "Flow Steps:\n",
    "```css\n",
    "Client ----> [Authorization Endpoint] ----> (Step 1: Get access_token-for-API_A)\n",
    "Client ----> [API A] ----> (Step 2: Call API A with access_token-for-API_A)\n",
    "API A ----> [Authorization Endpoint] ----> (Step 3: Get access_token-for-API_B using the first access_token)\n",
    "API A ----> [API B] ----> (Step 5: Call API B with access_token-for-API_B)\n",
    "```"
   ]
  },
  {
   "cell_type": "code",
   "execution_count": null,
   "metadata": {},
   "outputs": [],
   "source": [
    "import sys\n",
    "sys.path.append('../')\n",
    "import OAuth2_Flows\n",
    "import pyperclip"
   ]
  },
  {
   "cell_type": "markdown",
   "metadata": {},
   "source": [
    "### Required Variables Setup\n",
    "Below we are setting up our variables."
   ]
  },
  {
   "cell_type": "code",
   "execution_count": null,
   "metadata": {},
   "outputs": [],
   "source": [
    "#variables\n",
    "tenant_id = ''\n",
    "client_id = ''\n",
    "scope = 'openid email profile offline_access https://graph.microsoft.com/.default'\n",
    "response_mode = 'fragment' #'form_post'"
   ]
  },
  {
   "cell_type": "markdown",
   "metadata": {},
   "source": [
    "The **`assertion`** here will be the `access_token` issued to the middle tier API, this would be API A on the Flow Steps above:"
   ]
  },
  {
   "cell_type": "code",
   "execution_count": null,
   "metadata": {},
   "outputs": [],
   "source": [
    "assertion = input('Enter the assertion (access_token): ')"
   ]
  },
  {
   "cell_type": "markdown",
   "metadata": {},
   "source": [
    "This is the client secret of your application:"
   ]
  },
  {
   "cell_type": "code",
   "execution_count": null,
   "metadata": {},
   "outputs": [],
   "source": [
    "client_secret = input('Enter the client secret: ')"
   ]
  },
  {
   "cell_type": "markdown",
   "metadata": {},
   "source": [
    "Note that you should only be getting back an access_token but I left the others for experimentation."
   ]
  },
  {
   "cell_type": "code",
   "execution_count": null,
   "metadata": {},
   "outputs": [],
   "source": [
    "access_token, refresh_token, id_token = OAuth2_Flows.on_behalf_of_flow(tenant_id, client_id, assertion, scope, client_secret)"
   ]
  },
  {
   "cell_type": "code",
   "execution_count": null,
   "metadata": {},
   "outputs": [],
   "source": [
    "print(f'Access Token: {access_token}')\n",
    "print(f'Refresh Token: {refresh_token}')\n",
    "print(f'ID Token: {id_token}')"
   ]
  },
  {
   "cell_type": "markdown",
   "metadata": {},
   "source": [
    "---     "
   ]
  },
  {
   "cell_type": "markdown",
   "metadata": {},
   "source": [
    "# SAML Token request\n",
    "If you are working with an API that requires a SAML token, OBO supports that. You have to use the `requested_token_type` with one of the following two values (depending on the application's requirement):\n",
    "- `tf:params:oauth:token-type:saml2`\n",
    "- `urn:ietf:params:oauth:token-type:saml1`"
   ]
  },
  {
   "cell_type": "markdown",
   "metadata": {},
   "source": [
    "The request would be very similar to the one above, except it includes this new parameter:"
   ]
  },
  {
   "cell_type": "code",
   "execution_count": null,
   "metadata": {},
   "outputs": [],
   "source": [
    "requested_token_type = 'tf:params:oauth:token-type:saml2'\n",
    "access_token, refresh_token, id_token = OAuth2_Flows.on_behalf_of_flow(tenant_id, client_id, assertion, scope, client_secret, requested_token_type=requested_token_type)"
   ]
  }
 ],
 "metadata": {
  "kernelspec": {
   "display_name": "Python 3",
   "language": "python",
   "name": "python3"
  },
  "language_info": {
   "codemirror_mode": {
    "name": "ipython",
    "version": 3
   },
   "file_extension": ".py",
   "mimetype": "text/x-python",
   "name": "python",
   "nbconvert_exporter": "python",
   "pygments_lexer": "ipython3",
   "version": "3.11.9"
  }
 },
 "nbformat": 4,
 "nbformat_minor": 2
}
