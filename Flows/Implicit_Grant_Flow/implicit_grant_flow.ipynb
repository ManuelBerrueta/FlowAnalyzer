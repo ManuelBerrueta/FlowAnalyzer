{
 "cells": [
  {
   "cell_type": "markdown",
   "metadata": {},
   "source": [
    "# Implicit Grant Flow\n",
    "**Implicit Grant Flow** is designed primarily for single-page applications (SPAs) or other client-side applications where the client cannot securely store a secret. Tokens (`id_token` and `access_token`) are returned directly from the `/authorize` endpoint, instead of the `/token` endpoint.\n",
    "\n",
    "Here’s how it works:\n",
    "1. Client Requests Authorization: The client redirects the user's browser to the `/authorization` endpoint.\n",
    "2. User Authenticates: The user logs in and consents to the requested scopes.\n",
    "3. Tokens Returned Directly: The authorization server immediately returns the tokens (ID token and/or access token) directly in the URL fragment of the redirect URI without an intermediate authorization code.\n",
    "\n",
    "### Key Points of Implicit Grant Flow:\n",
    "- **Tokens Directly Returned**: Tokens are returned directly from the /authorize endpoint.\n",
    "- **No Authorization Code**: There is no intermediate step of exchanging an authorization code for tokens.\n",
    "- <span style=\"color:red\">**Security**</span>: Since tokens are returned in the URL, they may be more susceptible to being intercepted or leaked (e.g., in browser history, logs, or referrer headers)."
   ]
  },
  {
   "cell_type": "markdown",
   "metadata": {},
   "source": [
    "To visualize the flow:\n",
    "```sql\n",
    "Client ----> [Authorization Endpoint]\n",
    "                       \\\n",
    "                        User Authenticates\n",
    "                       /\n",
    "Client <---- [Tokens in URL Fragment or Query String]\n",
    "```"
   ]
  },
  {
   "cell_type": "code",
   "execution_count": null,
   "metadata": {},
   "outputs": [],
   "source": [
    "import sys\n",
    "sys.path.append('../')\n",
    "import OAuth2_Flows\n",
    "import pyperclip"
   ]
  },
  {
   "cell_type": "markdown",
   "metadata": {},
   "source": [
    "### Some important nuances:\n",
    "- If you are requesting a `response_type` of `access_token`, it requires a `response_mode` of **fragment**.\n",
    "    - This is an optional parameter in the function, and **fragment** is set as the default.\n",
    "    - You are able to pair the `response_type` of `access_token` with `id_token`, however, because you are requesting an access_token the **fragment** requirement still applies.\n",
    "- If you are just requesting an `id_token`, you can use a `response_mode` of **query** or **fragment**.\n",
    "\n",
    "#### Fill out the required variables:"
   ]
  },
  {
   "cell_type": "code",
   "execution_count": null,
   "metadata": {},
   "outputs": [],
   "source": [
    "tenant_id = ''\n",
    "client_id = ''\n",
    "redirect_uri = ''\n",
    "response_type = 'id_token'\n",
    "scope = 'openid https://graph.microsoft.com/.default' #offline_access is required for refresh token\n",
    "state = \"A1B2C3D4E5F6\""
   ]
  },
  {
   "cell_type": "code",
   "execution_count": null,
   "metadata": {},
   "outputs": [],
   "source": [
    "complete_auth_url = OAuth2_Flows.implicit_flow(tenant_id, client_id, redirect_uri, response_type, scope)\n",
    "pyperclip.copy(complete_auth_url) # Copy to clipboard\n",
    "print(f'Complete URL w/ params - Paste In Browser: \\n{complete_auth_url}')"
   ]
  }
 ],
 "metadata": {
  "kernelspec": {
   "display_name": "Python 3",
   "language": "python",
   "name": "python3"
  },
  "language_info": {
   "codemirror_mode": {
    "name": "ipython",
    "version": 3
   },
   "file_extension": ".py",
   "mimetype": "text/x-python",
   "name": "python",
   "nbconvert_exporter": "python",
   "pygments_lexer": "ipython3",
   "version": "3.10.12"
  }
 },
 "nbformat": 4,
 "nbformat_minor": 2
}
