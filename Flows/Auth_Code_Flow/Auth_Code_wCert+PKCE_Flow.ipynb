{
 "cells": [
  {
   "cell_type": "markdown",
   "metadata": {},
   "source": [
    "# Auth Code Flow using Certificate + PKCE\n",
    "- In this notebook we will use Auth Code Flow, but this time with a certificate to authenticate the client, for setup see the `/Cert_Setup` directory.   \n",
    "- We will also execute the Auth Code Flow paired with Proof Key for Code Exchange (PKCE), which includes the `code_challenge` and `code_challenge_method`.\n"
   ]
  },
  {
   "cell_type": "code",
   "execution_count": 2,
   "metadata": {},
   "outputs": [],
   "source": [
    "import sys\n",
    "sys.path.append('../')\n",
    "import OAuth2_Flows\n",
    "import pyperclip\n",
    "import base64\n",
    "import os\n",
    "import re\n",
    "import hashlib"
   ]
  },
  {
   "cell_type": "markdown",
   "metadata": {},
   "source": [
    "## Required Variables Setup\n",
    "Below we are setting up our variables.\n",
    "- Note that the `redirect_uri` needs to match that on the App Registration\n",
    "\n",
    "> Note that in the scope you could also request something like: `scope = 'openid email profile offline_access https://graph.microsoft.com/.default'`, and that would also return an id token along with a refresh token. This by the specification is no longer considered Auth Code flow, and it is using the Hybrid Flow leveraging the OpenID Connect (OIDC) spec, which allows for this type of behavior."
   ]
  },
  {
   "cell_type": "code",
   "execution_count": null,
   "metadata": {},
   "outputs": [],
   "source": [
    "tenant_id = ''\n",
    "client_id = ''\n",
    "redirect_uri = ''\n",
    "\n",
    "scope = 'offline_access https://graph.microsoft.com/.default' #offline_access is required for refresh token\n",
    "state = \"A1B2C3D4E5F6\""
   ]
  },
  {
   "cell_type": "markdown",
   "metadata": {},
   "source": [
    "---     \n",
    "# PKCE code support\n"
   ]
  },
  {
   "cell_type": "code",
   "execution_count": null,
   "metadata": {},
   "outputs": [],
   "source": [
    "#source: https://aps.autodesk.com/en/docs/oauth/v2/tutorials/code-challenge/\n",
    "def vGenerateCodeChallengePair() -> tuple:\n",
    "  code_verifier = base64.urlsafe_b64encode(os.urandom(40)).decode('utf-8')\n",
    "  code_verifier = re.sub('[^a-zA-Z0-9]+', '', code_verifier)\n",
    "\n",
    "  code_challenge = hashlib.sha256(code_verifier.encode('utf-8')).digest()\n",
    "  code_challenge = base64.urlsafe_b64encode(code_challenge).decode('utf-8')\n",
    "  code_challenge = code_challenge.replace('=', '')\n",
    "\n",
    "  return (code_verifier, code_challenge)\n",
    "\n",
    "code_verifier, code_challenge = vGenerateCodeChallengePair()\n",
    "print(code_verifier)\n",
    "print(code_challenge)\n",
    "pyperclip.copy(code_challenge)"
   ]
  },
  {
   "cell_type": "code",
   "execution_count": null,
   "metadata": {},
   "outputs": [],
   "source": [
    "complete_auth_url = OAuth2_Flows.auth_code_flow(tenant_id, client_id, redirect_uri, scope, state, code_challenge=code_challenge, code_challenge_method='S256')\n",
    "pyperclip.copy(complete_auth_url) # Copy to clipboard\n",
    "print(f'Complete URL w/ params - Paste In Browser: \\n{complete_auth_url}')"
   ]
  },
  {
   "cell_type": "markdown",
   "metadata": {},
   "source": [
    "You should now have the code..."
   ]
  },
  {
   "cell_type": "code",
   "execution_count": null,
   "metadata": {},
   "outputs": [],
   "source": [
    "auth_code = input('Enter the code from the URL: ')"
   ]
  },
  {
   "cell_type": "markdown",
   "metadata": {},
   "source": [
    "### What is the `client_assertion`?\n",
    "The `client_assertion` is a JWT signed with the private key of the certificate that you created and assigned to your App Registration's authentication. \n",
    "\n",
    "To get the `client_assertion`, you can leverage my `jwt_sign.py` script, under `/BST/JWT_Utils/`"
   ]
  },
  {
   "cell_type": "code",
   "execution_count": null,
   "metadata": {},
   "outputs": [],
   "source": [
    "client_assertion = input('Enter the client_assertion (JWT): ')"
   ]
  },
  {
   "cell_type": "code",
   "execution_count": null,
   "metadata": {},
   "outputs": [],
   "source": [
    "tokens = OAuth2_Flows.request_access_token(tenant_id, client_id, redirect_uri, auth_code, client_assertion=client_assertion, code_verifier=code_verifier)\n",
    "access_token = tokens[0]\n",
    "refresh_token = tokens[1]\n",
    "id_token = tokens[2] # id_token is not returned in regular Auth Code Flow\n",
    "print(f'Access Token: {access_token}')\n",
    "print(f'Refresh Token: {refresh_token}')\n",
    "print(f'ID Token: {id_token}') # id_token is not returned in regular Auth Code Flow"
   ]
  }
 ],
 "metadata": {
  "kernelspec": {
   "display_name": "Python 3",
   "language": "python",
   "name": "python3"
  },
  "language_info": {
   "codemirror_mode": {
    "name": "ipython",
    "version": 3
   },
   "file_extension": ".py",
   "mimetype": "text/x-python",
   "name": "python",
   "nbconvert_exporter": "python",
   "pygments_lexer": "ipython3",
   "version": "3.10.12"
  }
 },
 "nbformat": 4,
 "nbformat_minor": 2
}
