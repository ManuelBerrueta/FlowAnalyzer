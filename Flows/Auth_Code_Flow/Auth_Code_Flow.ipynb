{
 "cells": [
  {
   "cell_type": "markdown",
   "metadata": {},
   "source": [
    "# Auth Code Grant Flow\n",
    "Authorization Code Flow is one of the most common ones along with Hybrid Flow, in fact Hybrid Flow leverages the Auth Code Grant flow but extends it's functionality. \n",
    "\n",
    "In the Auth Code Grant, its purpose is to request an authorization code, known as the `auth_code` which the Client Application will then exchange securely using its own Apps credentials (`client_secret`) for an `access_token`.\n",
    "\n",
    "> [!NOTE] 📝 Authorization Code Grant/Flow requires user interaction. The user must sign-in interactively and satisfy the MFA policy."
   ]
  },
  {
   "cell_type": "markdown",
   "metadata": {},
   "source": [
    "The flow execution looks something like this:\n",
    "```sql\n",
    "Client ----> [Authorization Endpoint]\n",
    "                       \\\n",
    "                        User Authenticates\n",
    "                       /\n",
    "Client <---- [Authorization Code]\n",
    "           |\n",
    "           | (POST with code)\n",
    "           v\n",
    "[Token Endpoint] ----> [Tokens]\n",
    "```"
   ]
  },
  {
   "cell_type": "markdown",
   "metadata": {},
   "source": [
    "### Setup\n",
    "Setup the following variables with your own application information, you can fine them under Application registrations.\n",
    "\n",
    "Set the scope to the permissions you would like to grant to the application."
   ]
  },
  {
   "cell_type": "code",
   "execution_count": null,
   "metadata": {},
   "outputs": [],
   "source": [
    "import sys\n",
    "sys.path.append('../')\n",
    "import OAuth2_Flows\n",
    "import pyperclip"
   ]
  },
  {
   "cell_type": "markdown",
   "metadata": {},
   "source": [
    "## Required Variables Setup\n",
    "Below we are setting up our variables.\n",
    "- Note that the `redirect_uri` needs to match that on the App Registration\n",
    "\n",
    "> Note that in the scope you could also request something like: `scope = 'openid email profile offline_access https://graph.microsoft.com/.default'`, and that would also return an id token along with a refresh token. This by the specification is no longer considered Auth Code flow, and it is using the Hybrid Flow leveraging the OpenID Connect (OIDC) spec, which allows for this type of behavior."
   ]
  },
  {
   "cell_type": "code",
   "execution_count": null,
   "metadata": {
    "dotnet_interactive": {
     "language": "csharp"
    },
    "polyglot_notebook": {
     "kernelName": "csharp"
    }
   },
   "outputs": [],
   "source": [
    "tenant_id = ''\n",
    "client_id = ''\n",
    "redirect_uri = ''\n",
    "\n",
    "scope = 'offline_access https://graph.microsoft.com/.default' #offline_access is required for refresh token\n",
    "state = \"A1B2C3D4E5F6\""
   ]
  },
  {
   "cell_type": "markdown",
   "metadata": {},
   "source": [
    "The **`auth_code_flow`** function, returns the complete URL based on the parameters provided above to the authorization (`/authorize`) endpoint.\n",
    "The user must then sign-in with there identity and grant the permission to the `scope` the application has requested.\n",
    "\n",
    "> [!NOTE] 📝 The code will copy (so you don't have to 😉) the URL for you. You can either directly paste it in the browser or just click the hyperlink to open a new window. "
   ]
  },
  {
   "cell_type": "code",
   "execution_count": null,
   "metadata": {
    "dotnet_interactive": {
     "language": "csharp"
    },
    "polyglot_notebook": {
     "kernelName": "csharp"
    }
   },
   "outputs": [],
   "source": [
    "complete_auth_url = OAuth2_Flows.auth_code_flow(tenant_id, client_id, redirect_uri, scope, state)\n",
    "pyperclip.copy(complete_auth_url) # Copy to clipboard\n",
    "print(f'Complete URL w/ params - Paste In Browser: \\n{complete_auth_url}')"
   ]
  },
  {
   "cell_type": "markdown",
   "metadata": {},
   "source": [
    "In the response, you should have received the Authorization Code as a `code` query string parameter within the URL. Copy the `code` and run below.\n",
    "> [!TIP] 🔥 You can use the [**urlyzer**](https://github.com/ManuelBerrueta/urlyzer) tool to parse the url  for analysis and also to make it easier for you to copy the code 🙂    \n",
    "> [!NOTE] 📝 You will also need the `client_secret` for this next step."
   ]
  },
  {
   "cell_type": "code",
   "execution_count": null,
   "metadata": {},
   "outputs": [],
   "source": [
    "auth_code = input('Enter the code from the URL: ')"
   ]
  },
  {
   "cell_type": "code",
   "execution_count": null,
   "metadata": {
    "dotnet_interactive": {
     "language": "csharp"
    },
    "polyglot_notebook": {
     "kernelName": "csharp"
    }
   },
   "outputs": [],
   "source": [
    "client_secret = input('Enter the client secret: ')"
   ]
  },
  {
   "cell_type": "markdown",
   "metadata": {},
   "source": [
    "Now we can use the auth_code and client_secret to get the access token and refresh token."
   ]
  },
  {
   "cell_type": "code",
   "execution_count": null,
   "metadata": {
    "dotnet_interactive": {
     "language": "csharp"
    },
    "polyglot_notebook": {
     "kernelName": "csharp"
    }
   },
   "outputs": [],
   "source": [
    "access_token, refresh_token, id_token = OAuth2_Flows.request_access_token(tenant_id, client_id, redirect_uri, auth_code, client_secret)\n",
    "print(f'Access Token: {access_token}')\n",
    "print(f'Refresh Token: {refresh_token}')\n",
    "print(f'ID Token: {id_token}') # id_token is not returned in regular Auth Code Flow"
   ]
  },
  {
   "cell_type": "markdown",
   "metadata": {},
   "source": [
    "---     "
   ]
  },
  {
   "cell_type": "markdown",
   "metadata": {},
   "source": [
    "# Refresh Token Request\n",
    "If the token expires, we can also request a new one using the **`refresh_token`** to make a request to the `/token` endpoint.\n",
    "> [!NOTE] 📝 The `grant_type` in this case will be `refresh_token`"
   ]
  },
  {
   "cell_type": "code",
   "execution_count": null,
   "metadata": {},
   "outputs": [],
   "source": [
    "refresh_token = input('Enter the refresh token: ')"
   ]
  },
  {
   "cell_type": "code",
   "execution_count": null,
   "metadata": {
    "dotnet_interactive": {
     "language": "csharp"
    },
    "polyglot_notebook": {
     "kernelName": "csharp"
    }
   },
   "outputs": [],
   "source": [
    "client_secret = input('Enter the client secret: ')"
   ]
  },
  {
   "cell_type": "code",
   "execution_count": null,
   "metadata": {
    "dotnet_interactive": {
     "language": "csharp"
    },
    "polyglot_notebook": {
     "kernelName": "csharp"
    }
   },
   "outputs": [],
   "source": [
    "access_token, refresh_token, id_token = OAuth2_Flows.refresh_token(tenant_id, client_id, refresh_token, client_secret)\n",
    "print(f'Access Token: {access_token}')\n",
    "print(f'Refresh Token: {refresh_token}')\n",
    "print(f'ID Token: {id_token}') # id_token is not returned in regular Auth Code Flow"
   ]
  },
  {
   "cell_type": "markdown",
   "metadata": {},
   "source": [
    "## Getting Refresh Token with a different scope\n",
    "An additional, interesting fact is that you COULD request additional scopes with the refresh token.\n",
    "> [!NOTE] 📝 The user must have consented to the additional scope to the application at some point or the application must have admin consent.\n",
    "\n",
    "You can give it a try:"
   ]
  },
  {
   "cell_type": "code",
   "execution_count": null,
   "metadata": {
    "dotnet_interactive": {
     "language": "csharp"
    },
    "polyglot_notebook": {
     "kernelName": "csharp"
    }
   },
   "outputs": [],
   "source": [
    "scope = 'https://vault.azure.net/user_impersonation' #Change this to another scope you want to test"
   ]
  },
  {
   "cell_type": "code",
   "execution_count": null,
   "metadata": {},
   "outputs": [],
   "source": [
    "refresh_token = input('Enter the refresh token: ')"
   ]
  },
  {
   "cell_type": "code",
   "execution_count": null,
   "metadata": {
    "dotnet_interactive": {
     "language": "csharp"
    },
    "polyglot_notebook": {
     "kernelName": "csharp"
    }
   },
   "outputs": [],
   "source": [
    "client_secret = input('Enter the client secret: ')"
   ]
  },
  {
   "cell_type": "code",
   "execution_count": null,
   "metadata": {
    "dotnet_interactive": {
     "language": "csharp"
    },
    "polyglot_notebook": {
     "kernelName": "csharp"
    }
   },
   "outputs": [],
   "source": [
    "tokens = OAuth2_Flows.refresh_token(tenant_id, client_id, refresh_token, client_secret, scope)\n",
    "access_token = tokens[0]\n",
    "refresh_token = tokens[1]\n",
    "id_token = tokens[2] # id_token is not returned in regular Auth Code Flow\n",
    "print(f'Access Token: {access_token}')\n",
    "print(f'Refresh Token: {refresh_token}')\n",
    "print(f'ID Token: {id_token}') # id_token is not returned in regular Auth Code Flow"
   ]
  }
 ],
 "metadata": {
  "kernelspec": {
   "display_name": "Python 3",
   "language": "python",
   "name": "python3"
  },
  "language_info": {
   "codemirror_mode": {
    "name": "ipython",
    "version": 3
   },
   "file_extension": ".py",
   "mimetype": "text/x-python",
   "name": "python",
   "nbconvert_exporter": "python",
   "pygments_lexer": "ipython3",
   "version": "3.10.12"
  },
  "polyglot_notebook": {
   "kernelInfo": {
    "defaultKernelName": "csharp",
    "items": [
     {
      "aliases": [],
      "name": "csharp"
     }
    ]
   }
  }
 },
 "nbformat": 4,
 "nbformat_minor": 2
}
