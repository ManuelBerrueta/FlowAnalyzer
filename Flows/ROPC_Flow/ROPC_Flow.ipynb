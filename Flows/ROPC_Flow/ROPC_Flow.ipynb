{
 "cells": [
  {
   "cell_type": "markdown",
   "metadata": {},
   "source": [
    "# Resource Owner Password Credentials (ROPC)\n",
    "Unlike other flows, this flow directly requires that the user gives the client application their credentials instead of the IDP handling them. Which is not the most ideal scenario, in fact note this warning straight from Microsoft:\n",
    "> [!WARNING] ⚠\n",
    "> Microsoft recommends you do *not* use the ROPC flow. In most scenarios, more secure alternatives are available and recommended. This flow requires a very high degree of trust in the application, and carries risks that are not present in other flows. You should only use this flow when other more secure flows aren't viable.    \n",
    "    \n",
    "### Why?\n",
    "If you are asking to yourself why? It is because the user is trusting the application directly with their credentials, where with other flows you go through the Identity Provider (IDP) which is trustworthy and the application is never touching your credentials.\n",
    "\n",
    "## Limitations\n",
    "There are quite a bit of limitations with this flow. I will highlight some of them below:\n",
    "- Personal accounts can't be used with ROPC Flow\n",
    "- Must specify the `tenant` or use the `organizations` endpoint\n",
    "- Accounts without passwords (SMS Sign-in, FIDO, Authenticator) won't work (you need the password!)\n",
    "\n",
    "For a more detailed list checkout: https://learn.microsoft.com/en-us/entra/identity-platform/v2-oauth-ropc\n"
   ]
  },
  {
   "cell_type": "markdown",
   "metadata": {},
   "source": [
    "---    "
   ]
  },
  {
   "cell_type": "markdown",
   "metadata": {},
   "source": [
    "Import the `OAuth2_Flows` + `sys` and `pyperclip` packages."
   ]
  },
  {
   "cell_type": "code",
   "execution_count": null,
   "metadata": {},
   "outputs": [],
   "source": [
    "import sys\n",
    "sys.path.append('../')\n",
    "import OAuth2_Flows\n",
    "import pyperclip"
   ]
  },
  {
   "cell_type": "markdown",
   "metadata": {},
   "source": [
    "Below are all the parameters required to execute the ROPC Flow"
   ]
  },
  {
   "cell_type": "code",
   "execution_count": null,
   "metadata": {},
   "outputs": [],
   "source": [
    "tenant_id = ''\n",
    "client_id = ''\n",
    "redirect_uri = 'https://localhost:44321/'\n",
    "\n",
    "scope = 'openid profile email offline_access https://graph.microsoft.com/.default' #offline_access is required for refresh token"
   ]
  },
  {
   "cell_type": "code",
   "execution_count": null,
   "metadata": {},
   "outputs": [],
   "source": [
    "username = input('Enter your username: ')\n",
    "#username = '' #if you want to hardcode the username"
   ]
  },
  {
   "cell_type": "code",
   "execution_count": null,
   "metadata": {},
   "outputs": [],
   "source": [
    "password = input(\"Enter password: \")\n",
    "#password = '' #if you want to hardcode the password"
   ]
  },
  {
   "cell_type": "code",
   "execution_count": null,
   "metadata": {},
   "outputs": [],
   "source": [
    "client_secret = input(\"Enter client secret: \")\n",
    "#client_secret = '' #if you want to hardcode the client secret"
   ]
  },
  {
   "cell_type": "code",
   "execution_count": null,
   "metadata": {},
   "outputs": [],
   "source": [
    "access_token, refresh_token, id_token  = OAuth2_Flows.ropc(tenant_id, client_id, username, password, scope, client_secret=client_secret)\n",
    "pyperclip.copy(access_token)\n",
    "print(f'Access token copied to clipboard:\\n{access_token}')"
   ]
  },
  {
   "cell_type": "markdown",
   "metadata": {},
   "source": [
    "---    "
   ]
  },
  {
   "cell_type": "markdown",
   "metadata": {},
   "source": [
    "### ADMIN CONSENT  \n",
    "The App may need Admin Consent, to do this you can do it through the Portal or through a web browser request.\n",
    "- Reference: https://learn.microsoft.com/en-us/entra/identity/enterprise-apps/grant-admin-consent?pivots=portal#construct-the-url-for-granting-tenant-wide-admin-consent\n",
    "\n",
    "> [!WARNING] Per the docs:\n",
    "> Granting admin consent on behalf of an organization is a sensitive operation, potentially allowing the application's publisher access to significant portions of your organization's data, or the permission to do highly privileged operations.\n",
    "\n",
    "#### Granting consent through the portal\n",
    "Go to Application > API permissions > Grant admin consent\n",
    "\n",
    "#### Granting consent via URL\n",
    "Make a request to the URL: `https://login.microsoftonline.com/{organization}/adminconsent?client_id={client-id}`"
   ]
  },
  {
   "cell_type": "code",
   "execution_count": null,
   "metadata": {},
   "outputs": [],
   "source": [
    "tenant_id = ''\n",
    "client_id = ''"
   ]
  },
  {
   "cell_type": "code",
   "execution_count": null,
   "metadata": {},
   "outputs": [],
   "source": [
    "URL = f'https://login.microsoftonline.com/{tenant_id}/adminconsent?client_id={client_id}'\n",
    "pyperclip.copy(URL)\n",
    "print(f'URL copied to clipboard:\\n{URL}')"
   ]
  }
 ],
 "metadata": {
  "kernelspec": {
   "display_name": "Python 3",
   "language": "python",
   "name": "python3"
  },
  "language_info": {
   "codemirror_mode": {
    "name": "ipython",
    "version": 3
   },
   "file_extension": ".py",
   "mimetype": "text/x-python",
   "name": "python",
   "nbconvert_exporter": "python",
   "pygments_lexer": "ipython3",
   "version": "3.10.12"
  }
 },
 "nbformat": 4,
 "nbformat_minor": 2
}
