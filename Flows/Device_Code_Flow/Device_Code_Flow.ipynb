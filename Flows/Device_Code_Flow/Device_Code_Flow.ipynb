{
 "cells": [
  {
   "cell_type": "markdown",
   "metadata": {},
   "source": [
    "# Device Code Flow\n",
    "The Device Code Flow uses the OAuth 2.0 Device Authorization Grant. It is meant to be used by IoT type devices (such as Smart TVs) that lack a browser or are input constrained.\n",
    "> [!NOTE] This flow requires user interaction in a separate device.\n",
    "\n",
    "## How it works!?\n",
    "1. The device first sends a POST request to the `/devicecode` endpoint with it's `client_id` and the `scope` is requesting.\n",
    "2. The response has the `message` which instructs the user to go to the `verification_uri` along with the `user_code` which the user will need to input in a different device to authenticate and authorize the scope for that device.\n",
    "3. The `device_code`, is also returned as a parameter in the response and is used in a follow up POST request by the device, this time to the `/token` endpoint.\n",
    "4. After the initial POST in step (3) request, the device will continue to poll (send requests)  `/token` endpoint until it receives a `200` (after a successful user login and consent of scope(s)) including the token(s) or a different error like scope issues, the user not logging or the flow not supported for that application.\n",
    "\n",
    "### Visual of Device Code Flow\n",
    "See the `Device_Code_Flow.md` for a visual representation using mermaid.\n",
    "\n",
    "---   \n",
    "## Prerequisites\n",
    "To execute this flow, you must turn on \"Allow public client flows\". \n",
    "\n",
    "Here is a how to do this:\n",
    "1. Got to Azure Portal\n",
    "2. Entra ID > App registrations\n",
    "3. Select your application\n",
    "4. Under Manage select Authentication\n",
    "5. In Advanced settings towards the bottom, you have \"**Allow public client flows**\" \n",
    "6. Turn the switch on to \"Yes\" to the right of \"Enable the following mobile and desktop flows:\""
   ]
  },
  {
   "cell_type": "code",
   "execution_count": null,
   "metadata": {},
   "outputs": [],
   "source": [
    "import sys\n",
    "sys.path.append('../')\n",
    "import OAuth2_Flows\n",
    "import pyperclip"
   ]
  },
  {
   "cell_type": "markdown",
   "metadata": {},
   "source": [
    "Enter your tenant id, client id, and change the scope to whatever fits your needs."
   ]
  },
  {
   "cell_type": "code",
   "execution_count": null,
   "metadata": {},
   "outputs": [],
   "source": [
    "tenant_id = ''\n",
    "client_id = ''\n",
    "# Change to whatever scope(s) you'd like to request\n",
    "scope = 'openid offline_access https://graph.microsoft.com/.default' #offline_access is required for refresh token"
   ]
  },
  {
   "cell_type": "markdown",
   "metadata": {},
   "source": [
    "## Device Authorization Request\n",
    "The function will first send a POST request to the `/devicecode` endpoint.\n",
    "- The user has 15 minutes (default) to sign-in after the request is sent\n",
    "\n",
    "Then the function will use the `device_code` to poll the `\\token` endpoint, until the user sign-in and the tokens returned in the response or something fails."
   ]
  },
  {
   "cell_type": "code",
   "execution_count": null,
   "metadata": {},
   "outputs": [],
   "source": [
    "access_token, refresh_token, id_token = OAuth2_Flows.device_code_flow(tenant_id, client_id, scope)\n",
    "print(f\"Access Token: {access_token}\")\n",
    "print(f\"ID Token: {id_token}\")\n",
    "print(f\"Refresh Token: {refresh_token}\")"
   ]
  }
 ],
 "metadata": {
  "kernelspec": {
   "display_name": "flowAnalyzerEnv",
   "language": "python",
   "name": "python3"
  },
  "language_info": {
   "codemirror_mode": {
    "name": "ipython",
    "version": 3
   },
   "file_extension": ".py",
   "mimetype": "text/x-python",
   "name": "python",
   "nbconvert_exporter": "python",
   "pygments_lexer": "ipython3",
   "version": "3.11.7"
  }
 },
 "nbformat": 4,
 "nbformat_minor": 2
}
